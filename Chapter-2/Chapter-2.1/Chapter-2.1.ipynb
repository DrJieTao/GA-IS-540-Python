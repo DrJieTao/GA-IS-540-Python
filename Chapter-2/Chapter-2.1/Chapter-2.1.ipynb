{
 "cells": [
  {
   "cell_type": "markdown",
   "metadata": {},
   "source": [
    "## Chapter 2.1"
   ]
  },
  {
   "cell_type": "markdown",
   "metadata": {},
   "source": [
    "### Dictionaries to Dataframes"
   ]
  },
  {
   "cell_type": "code",
   "execution_count": 1,
   "metadata": {
    "collapsed": true
   },
   "outputs": [],
   "source": [
    "# Copied from the source.\n",
    "# Critics is a dictionary of dictionaries\n",
    "# Aim is to convert it to the dataframe\n",
    "\n",
    "critics={'Lisa Rose': {'Lady in the Water': 2.5, 'Snakes on a Plane': 3.5,\n",
    "'Just My Luck': 3.0, 'Superman Returns': 3.5, 'You, Me and Dupree': 2.5,\n",
    "'The Night Listener': 3.0},\n",
    "'Gene Seymour': {'Lady in the Water': 3.0, 'Snakes on a Plane': 3.5,\n",
    "'Just My Luck': 1.5, 'Superman Returns': 5.0, 'The Night Listener': 3.0,\n",
    "'You, Me and Dupree': 3.5},\n",
    "'Michael Phillips': {'Lady in the Water': 2.5, 'Snakes on a Plane': 3.0,\n",
    "'Superman Returns': 3.5, 'The Night Listener': 4.0},\n",
    "'Claudia Puig': {'Snakes on a Plane': 3.5, 'Just My Luck': 3.0,\n",
    "'The Night Listener': 4.5, 'Superman Returns': 4.0,\n",
    "'You, Me and Dupree': 2.5},\n",
    "'Mick LaSalle': {'Lady in the Water': 3.0, 'Snakes on a Plane': 4.0,\n",
    "'Just My Luck': 2.0, 'Superman Returns': 3.0, 'The Night Listener': 3.0,\n",
    "'You, Me and Dupree': 2.0},\n",
    "'Jack Matthews': {'Lady in the Water': 3.0, 'Snakes on a Plane': 4.0,\n",
    "'The Night Listener': 3.0, 'Superman Returns': 5.0, 'You, Me and Dupree': 3.5},\n",
    "'Toby': {'Snakes on a Plane':4.5,'You, Me and Dupree':1.0,'Superman Returns':4.0}}"
   ]
  },
  {
   "cell_type": "code",
   "execution_count": 2,
   "metadata": {},
   "outputs": [
    {
     "name": "stdout",
     "output_type": "stream",
     "text": [
      "                  Lady in the Water  Snakes on a Plane  Just My Luck  \\\n",
      "Claudia Puig                    NaN                3.5           3.0   \n",
      "Gene Seymour                    3.0                3.5           1.5   \n",
      "Jack Matthews                   3.0                4.0           NaN   \n",
      "Lisa Rose                       2.5                3.5           3.0   \n",
      "Michael Phillips                2.5                3.0           NaN   \n",
      "Mick LaSalle                    3.0                4.0           2.0   \n",
      "Toby                            NaN                4.5           NaN   \n",
      "\n",
      "                  Superman Returns  You, Me and Dupree  The Night Listener  \n",
      "Claudia Puig                   4.0                 2.5                 4.5  \n",
      "Gene Seymour                   5.0                 3.5                 3.0  \n",
      "Jack Matthews                  5.0                 3.5                 3.0  \n",
      "Lisa Rose                      3.5                 2.5                 3.0  \n",
      "Michael Phillips               3.5                 NaN                 4.0  \n",
      "Mick LaSalle                   3.0                 2.0                 3.0  \n",
      "Toby                           4.0                 1.0                 NaN  \n"
     ]
    }
   ],
   "source": [
    "# Importing pandas for Dataframes\n",
    "import pandas as pd\n",
    "\n",
    "#Creating a dataframe \"df\" and using \"from_dict\" it to convert from dict to DF.\n",
    "#Having the orientation set to the index for uniformity\n",
    "df= pd.DataFrame.from_dict(critics,orient='index')\n",
    "print(df)\n"
   ]
  },
  {
   "cell_type": "code",
   "execution_count": 3,
   "metadata": {},
   "outputs": [
    {
     "data": {
      "text/plain": [
       "4.0"
      ]
     },
     "execution_count": 3,
     "metadata": {},
     "output_type": "execute_result"
    }
   ],
   "source": [
    "# Checking to see if we can get a result-Rating, when given the name of the critic and the movie name.\n",
    "critics['Toby']['Superman Returns']"
   ]
  },
  {
   "cell_type": "code",
   "execution_count": 4,
   "metadata": {},
   "outputs": [
    {
     "data": {
      "text/plain": [
       "{'Just My Luck': 3.0,\n",
       " 'Lady in the Water': 2.5,\n",
       " 'Snakes on a Plane': 3.5,\n",
       " 'Superman Returns': 3.5,\n",
       " 'The Night Listener': 3.0,\n",
       " 'You, Me and Dupree': 2.5}"
      ]
     },
     "execution_count": 4,
     "metadata": {},
     "output_type": "execute_result"
    }
   ],
   "source": [
    "# Checking all the ratings of a specific critic using Dataframe\n",
    "critics['Lisa Rose']"
   ]
  },
  {
   "cell_type": "code",
   "execution_count": 5,
   "metadata": {
    "collapsed": true
   },
   "outputs": [],
   "source": [
    "# Here we would need a function to be written for obtaining a specific task.\n",
    "# Task : Create a function which gives us the similarity distance between the critics.\n",
    "# Based on their similarity distance we would be able to predict thier ratings and understand few more factors.\n",
    "\n",
    "#Function \n",
    "\n",
    "# Returns a distance-based similarity score for person1 and person2\n",
    "def similarity_distance(prefs,person1,person2):\n",
    "    \n",
    "    # Get the list of shared_items\n",
    "    si={}  # Empty list \n",
    "    for item in prefs[person1]:      # Using a for loop and an if statement to check if the critics name and his items are there\n",
    "        if item in prefs[person2]:   # Using a if statement, to check if the persons items match\n",
    "            si[item]=1               # initiating the list value to 1 , If Matched ratings\n",
    "    \n",
    "    # if they have no ratings in common, return 0\n",
    "    if len(si)==0: return 0          # Innitiating the list value to 0 if no matches in their ratings\n",
    "    \n",
    "    # Add up the squares of all the differences\n",
    "    sum_of_squares=sum([pow(prefs[person1][item]-prefs[person2][item],2)\n",
    "                        for item in prefs[person1] if item in prefs[person2]]) #This is gives us the exact distance between their ratings\n",
    "\n",
    "    return 1/(1+sum_of_squares) # returning value is more genralized by adding 1 and inverting it to get values between 0-1 for convenience"
   ]
  },
  {
   "cell_type": "code",
   "execution_count": 6,
   "metadata": {},
   "outputs": [
    {
     "data": {
      "text/plain": [
       "0.2222222222222222"
      ]
     },
     "execution_count": 6,
     "metadata": {},
     "output_type": "execute_result"
    }
   ],
   "source": [
    "#Checking the similarity distance between 2 critics \n",
    "similarity_distance(critics,'Lisa Rose','Toby')"
   ]
  },
  {
   "cell_type": "markdown",
   "metadata": {
    "collapsed": true
   },
   "source": [
    "## Notes from this excercise"
   ]
  },
  {
   "cell_type": "markdown",
   "metadata": {},
   "source": [
    " #### 1. Getting to know what to look for  with the data available.\n",
    " #### 2. Converting data from dictionaries to dataframes is easy with missig values as well.\n",
    " #### 3. Function writing is the toughest part and would require in depth knowledge in coding and also logical thinking\n",
    " #### 4. Sum of Squares was easy as the syntax is easy, however generalizing the distance points to values between 0-1 had to learnt."
   ]
  },
  {
   "cell_type": "code",
   "execution_count": null,
   "metadata": {
    "collapsed": true
   },
   "outputs": [],
   "source": []
  }
 ],
 "metadata": {
  "kernelspec": {
   "display_name": "Python 3",
   "language": "python",
   "name": "python3"
  },
  "language_info": {
   "codemirror_mode": {
    "name": "ipython",
    "version": 3
   },
   "file_extension": ".py",
   "mimetype": "text/x-python",
   "name": "python",
   "nbconvert_exporter": "python",
   "pygments_lexer": "ipython3",
   "version": "3.6.3"
  }
 },
 "nbformat": 4,
 "nbformat_minor": 2
}
